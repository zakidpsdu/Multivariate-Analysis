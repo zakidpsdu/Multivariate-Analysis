{
  "nbformat": 4,
  "nbformat_minor": 0,
  "metadata": {
    "colab": {
      "provenance": [],
      "include_colab_link": true
    },
    "kernelspec": {
      "name": "python3",
      "display_name": "Python 3"
    },
    "language_info": {
      "name": "python"
    }
  },
  "cells": [
    {
      "cell_type": "markdown",
      "metadata": {
        "id": "view-in-github",
        "colab_type": "text"
      },
      "source": [
        "<a href=\"https://colab.research.google.com/github/zakidpsdu/Multivariate-Analysis/blob/main/hw_7.ipynb\" target=\"_parent\"><img src=\"https://colab.research.google.com/assets/colab-badge.svg\" alt=\"Open In Colab\"/></a>"
      ]
    },
    {
      "cell_type": "markdown",
      "source": [
        "# Homework 7\n",
        "\n",
        "Return an ipython notebook and python streamlit app with the following:\n",
        "\n",
        "0. Write a python function that takes an X and Y vector and returns an estimated $\\beta_0$ and $\\beta_1$ from linear regression. Check your function versus one of the prewritten ones. Include this in code cells of your ipython notebook.\n",
        "1. Using Python and basic numpy functions, fit a linear regression model to the kirby 21 dataset into colab for the left telencelphalon (predictor) to the right telencephalon (outcome). Also, do the same reversing the predictor and response relationship. Do a scatterplot of the left telencephalon (type 1 level 1) volume by the right. Do not hold out any data (there's only 21 observations).\n",
        "2. Consider a regression through the origin model  Y=BX . What would be the impact on the estimate of  B  if we replaced  X  by  cX  where  c  is a positive constant? Write your answer in a markdown cell of your ipython notebook.\n",
        "3. Let  $X_i$  be a group indicator so that $x_i=I(i\\in G_1)$\n",
        "I.e. takes the value  1  when  $i$  is in group 1 and 0 if  i  is in group 0. Consider optimizing $\\sum_i \\frac{1}{n}(Y_i − \\beta_0 - \\beta_1 X_i)^2$.\n",
        "If $\\hat Y = \\hat \\beta_0 + \\hat \\beta_1 X$, argue that $\\hat Y$ is the group mean for group 1 if $X=1$ and the group mean for group 0 if $X=0$. You can either make a text argument in a markdown cell, or create a simulated example and show that the results holds.\n",
        "4. Argue that if you take the vectors $Y$ and $X$ and divide them by their standard deviations (respectively), the slope for either regressing $Y$ on $X$ or $X$ on $Y$ is simply the correlation.\n",
        "5. Consider the logistic curve\n",
        "$$\n",
        "f(x) = \\frac{e^{\\beta_0 + \\beta_1x}}{1 + e^{\\beta_0 + \\beta_1 x}}.\n",
        "$$\n",
        "Use streamlit to create a web page that shows the impact of changing $\\beta_0$ and $\\beta_1$. That is, it takes in two inputs, as sliders, $\\beta_0$ and $\\beta_1$, and plots the resulting logistic curve. Your file should be a single python file."
      ],
      "metadata": {
        "id": "vFVF0cQdceTM"
      }
    },
    {
      "cell_type": "markdown",
      "source": [
        "# Question 0: Write a python function that takes an X and Y vector and returns an estimated  𝛽0  and  𝛽1  from linear regression. Check your function versus one of the prewritten ones. Include this in code cells of your ipython notebook."
      ],
      "metadata": {
        "id": "jb6HtU_YemUk"
      }
    },
    {
      "cell_type": "code",
      "source": [
        "import numpy as np\n",
        "from sklearn.linear_model import LinearRegression\n",
        "\n",
        "def estimate_beta(X, Y):\n",
        "    X = np.vstack([np.ones(len(X)), X]).T\n",
        "\n",
        "    beta = np.linalg.inv(X.T @ X) @ X.T @ Y\n",
        "\n",
        "    return round(beta[0], 2), round(beta[1], 2)\n",
        "\n",
        "\n",
        "# example data\n",
        "X = np.array([1, 2, 3, 4, 5])\n",
        "Y = np.array([2, 3, 5, 7, 10])\n",
        "\n",
        "estimate_beta(X, Y)\n"
      ],
      "metadata": {
        "id": "kwyeix-PeqZo",
        "colab": {
          "base_uri": "https://localhost:8080/"
        },
        "outputId": "817c201e-7730-4dff-8851-cb2c2b58a93f"
      },
      "execution_count": null,
      "outputs": [
        {
          "output_type": "execute_result",
          "data": {
            "text/plain": [
              "(np.float64(-0.6), np.float64(2.0))"
            ]
          },
          "metadata": {},
          "execution_count": 1
        }
      ]
    },
    {
      "cell_type": "code",
      "source": [
        "# check with sklearn\n",
        "model = LinearRegression(fit_intercept=True)\n",
        "model.fit(X.reshape(-1, 1), Y)\n",
        "sklearn_beta0 = round(model.intercept_, 2)\n",
        "sklearn_beta1 = round(model.coef_[0], 2)\n",
        "print(sklearn_beta0, sklearn_beta1)"
      ],
      "metadata": {
        "id": "aVhQuUVshJTI",
        "colab": {
          "base_uri": "https://localhost:8080/"
        },
        "outputId": "7ade600d-42c6-4dcc-ff5f-cd32ed5261b3"
      },
      "execution_count": null,
      "outputs": [
        {
          "output_type": "stream",
          "name": "stdout",
          "text": [
            "-0.6 2.0\n"
          ]
        }
      ]
    },
    {
      "cell_type": "markdown",
      "source": [
        "##Question 1: Using Python and basic numpy functions, fit a linear regression model to the kirby 21 dataset into colab for the left telencelphalon (predictor) to the right telencephalon (outcome). Also, do the same reversing the predictor and response relationship. Do a scatterplot of the left telencephalon (type 1 level 1) volume by the right. Do not hold out any data (there's only 21 observations)"
      ],
      "metadata": {
        "id": "3hdyP-IOey2N"
      }
    },
    {
      "cell_type": "code",
      "execution_count": null,
      "metadata": {
        "id": "vcDtwIC0bFZo",
        "outputId": "e4f2c4ae-e09c-454b-b3d0-1afdcd867fc2",
        "colab": {
          "base_uri": "https://localhost:8080/",
          "height": 175
        }
      },
      "outputs": [
        {
          "output_type": "execute_result",
          "data": {
            "text/plain": [
              "   Unnamed: 0                 rawid              roi  volume   min    max  \\\n",
              "0           1  kirby127a_3_1_ax.img  Telencephalon_L  531111   0.0  374.0   \n",
              "1           2  kirby127a_3_1_ax.img  Telencephalon_R  543404   0.0  300.0   \n",
              "2           3  kirby127a_3_1_ax.img   Diencephalon_L    9683  15.0  295.0   \n",
              "3           4  kirby127a_3_1_ax.img   Diencephalon_R    9678  10.0  335.0   \n",
              "\n",
              "       mean      std  type  level   id      icv      tbv  \n",
              "0  128.3013  51.8593     1      1  127  1378295  1268519  \n",
              "1  135.0683  53.6471     1      1  127  1378295  1268519  \n",
              "2  193.5488  32.2733     1      1  127  1378295  1268519  \n",
              "3  193.7051  32.7869     1      1  127  1378295  1268519  "
            ],
            "text/html": [
              "\n",
              "  <div id=\"df-155f0a4d-deee-4420-a5ac-d4dd350de3f3\" class=\"colab-df-container\">\n",
              "    <div>\n",
              "<style scoped>\n",
              "    .dataframe tbody tr th:only-of-type {\n",
              "        vertical-align: middle;\n",
              "    }\n",
              "\n",
              "    .dataframe tbody tr th {\n",
              "        vertical-align: top;\n",
              "    }\n",
              "\n",
              "    .dataframe thead th {\n",
              "        text-align: right;\n",
              "    }\n",
              "</style>\n",
              "<table border=\"1\" class=\"dataframe\">\n",
              "  <thead>\n",
              "    <tr style=\"text-align: right;\">\n",
              "      <th></th>\n",
              "      <th>Unnamed: 0</th>\n",
              "      <th>rawid</th>\n",
              "      <th>roi</th>\n",
              "      <th>volume</th>\n",
              "      <th>min</th>\n",
              "      <th>max</th>\n",
              "      <th>mean</th>\n",
              "      <th>std</th>\n",
              "      <th>type</th>\n",
              "      <th>level</th>\n",
              "      <th>id</th>\n",
              "      <th>icv</th>\n",
              "      <th>tbv</th>\n",
              "    </tr>\n",
              "  </thead>\n",
              "  <tbody>\n",
              "    <tr>\n",
              "      <th>0</th>\n",
              "      <td>1</td>\n",
              "      <td>kirby127a_3_1_ax.img</td>\n",
              "      <td>Telencephalon_L</td>\n",
              "      <td>531111</td>\n",
              "      <td>0.0</td>\n",
              "      <td>374.0</td>\n",
              "      <td>128.3013</td>\n",
              "      <td>51.8593</td>\n",
              "      <td>1</td>\n",
              "      <td>1</td>\n",
              "      <td>127</td>\n",
              "      <td>1378295</td>\n",
              "      <td>1268519</td>\n",
              "    </tr>\n",
              "    <tr>\n",
              "      <th>1</th>\n",
              "      <td>2</td>\n",
              "      <td>kirby127a_3_1_ax.img</td>\n",
              "      <td>Telencephalon_R</td>\n",
              "      <td>543404</td>\n",
              "      <td>0.0</td>\n",
              "      <td>300.0</td>\n",
              "      <td>135.0683</td>\n",
              "      <td>53.6471</td>\n",
              "      <td>1</td>\n",
              "      <td>1</td>\n",
              "      <td>127</td>\n",
              "      <td>1378295</td>\n",
              "      <td>1268519</td>\n",
              "    </tr>\n",
              "    <tr>\n",
              "      <th>2</th>\n",
              "      <td>3</td>\n",
              "      <td>kirby127a_3_1_ax.img</td>\n",
              "      <td>Diencephalon_L</td>\n",
              "      <td>9683</td>\n",
              "      <td>15.0</td>\n",
              "      <td>295.0</td>\n",
              "      <td>193.5488</td>\n",
              "      <td>32.2733</td>\n",
              "      <td>1</td>\n",
              "      <td>1</td>\n",
              "      <td>127</td>\n",
              "      <td>1378295</td>\n",
              "      <td>1268519</td>\n",
              "    </tr>\n",
              "    <tr>\n",
              "      <th>3</th>\n",
              "      <td>4</td>\n",
              "      <td>kirby127a_3_1_ax.img</td>\n",
              "      <td>Diencephalon_R</td>\n",
              "      <td>9678</td>\n",
              "      <td>10.0</td>\n",
              "      <td>335.0</td>\n",
              "      <td>193.7051</td>\n",
              "      <td>32.7869</td>\n",
              "      <td>1</td>\n",
              "      <td>1</td>\n",
              "      <td>127</td>\n",
              "      <td>1378295</td>\n",
              "      <td>1268519</td>\n",
              "    </tr>\n",
              "  </tbody>\n",
              "</table>\n",
              "</div>\n",
              "    <div class=\"colab-df-buttons\">\n",
              "\n",
              "  <div class=\"colab-df-container\">\n",
              "    <button class=\"colab-df-convert\" onclick=\"convertToInteractive('df-155f0a4d-deee-4420-a5ac-d4dd350de3f3')\"\n",
              "            title=\"Convert this dataframe to an interactive table.\"\n",
              "            style=\"display:none;\">\n",
              "\n",
              "  <svg xmlns=\"http://www.w3.org/2000/svg\" height=\"24px\" viewBox=\"0 -960 960 960\">\n",
              "    <path d=\"M120-120v-720h720v720H120Zm60-500h600v-160H180v160Zm220 220h160v-160H400v160Zm0 220h160v-160H400v160ZM180-400h160v-160H180v160Zm440 0h160v-160H620v160ZM180-180h160v-160H180v160Zm440 0h160v-160H620v160Z\"/>\n",
              "  </svg>\n",
              "    </button>\n",
              "\n",
              "  <style>\n",
              "    .colab-df-container {\n",
              "      display:flex;\n",
              "      gap: 12px;\n",
              "    }\n",
              "\n",
              "    .colab-df-convert {\n",
              "      background-color: #E8F0FE;\n",
              "      border: none;\n",
              "      border-radius: 50%;\n",
              "      cursor: pointer;\n",
              "      display: none;\n",
              "      fill: #1967D2;\n",
              "      height: 32px;\n",
              "      padding: 0 0 0 0;\n",
              "      width: 32px;\n",
              "    }\n",
              "\n",
              "    .colab-df-convert:hover {\n",
              "      background-color: #E2EBFA;\n",
              "      box-shadow: 0px 1px 2px rgba(60, 64, 67, 0.3), 0px 1px 3px 1px rgba(60, 64, 67, 0.15);\n",
              "      fill: #174EA6;\n",
              "    }\n",
              "\n",
              "    .colab-df-buttons div {\n",
              "      margin-bottom: 4px;\n",
              "    }\n",
              "\n",
              "    [theme=dark] .colab-df-convert {\n",
              "      background-color: #3B4455;\n",
              "      fill: #D2E3FC;\n",
              "    }\n",
              "\n",
              "    [theme=dark] .colab-df-convert:hover {\n",
              "      background-color: #434B5C;\n",
              "      box-shadow: 0px 1px 3px 1px rgba(0, 0, 0, 0.15);\n",
              "      filter: drop-shadow(0px 1px 2px rgba(0, 0, 0, 0.3));\n",
              "      fill: #FFFFFF;\n",
              "    }\n",
              "  </style>\n",
              "\n",
              "    <script>\n",
              "      const buttonEl =\n",
              "        document.querySelector('#df-155f0a4d-deee-4420-a5ac-d4dd350de3f3 button.colab-df-convert');\n",
              "      buttonEl.style.display =\n",
              "        google.colab.kernel.accessAllowed ? 'block' : 'none';\n",
              "\n",
              "      async function convertToInteractive(key) {\n",
              "        const element = document.querySelector('#df-155f0a4d-deee-4420-a5ac-d4dd350de3f3');\n",
              "        const dataTable =\n",
              "          await google.colab.kernel.invokeFunction('convertToInteractive',\n",
              "                                                    [key], {});\n",
              "        if (!dataTable) return;\n",
              "\n",
              "        const docLinkHtml = 'Like what you see? Visit the ' +\n",
              "          '<a target=\"_blank\" href=https://colab.research.google.com/notebooks/data_table.ipynb>data table notebook</a>'\n",
              "          + ' to learn more about interactive tables.';\n",
              "        element.innerHTML = '';\n",
              "        dataTable['output_type'] = 'display_data';\n",
              "        await google.colab.output.renderOutput(dataTable, element);\n",
              "        const docLink = document.createElement('div');\n",
              "        docLink.innerHTML = docLinkHtml;\n",
              "        element.appendChild(docLink);\n",
              "      }\n",
              "    </script>\n",
              "  </div>\n",
              "\n",
              "\n",
              "<div id=\"df-f6cefce6-2241-4970-86e0-b14deaffb231\">\n",
              "  <button class=\"colab-df-quickchart\" onclick=\"quickchart('df-f6cefce6-2241-4970-86e0-b14deaffb231')\"\n",
              "            title=\"Suggest charts\"\n",
              "            style=\"display:none;\">\n",
              "\n",
              "<svg xmlns=\"http://www.w3.org/2000/svg\" height=\"24px\"viewBox=\"0 0 24 24\"\n",
              "     width=\"24px\">\n",
              "    <g>\n",
              "        <path d=\"M19 3H5c-1.1 0-2 .9-2 2v14c0 1.1.9 2 2 2h14c1.1 0 2-.9 2-2V5c0-1.1-.9-2-2-2zM9 17H7v-7h2v7zm4 0h-2V7h2v10zm4 0h-2v-4h2v4z\"/>\n",
              "    </g>\n",
              "</svg>\n",
              "  </button>\n",
              "\n",
              "<style>\n",
              "  .colab-df-quickchart {\n",
              "      --bg-color: #E8F0FE;\n",
              "      --fill-color: #1967D2;\n",
              "      --hover-bg-color: #E2EBFA;\n",
              "      --hover-fill-color: #174EA6;\n",
              "      --disabled-fill-color: #AAA;\n",
              "      --disabled-bg-color: #DDD;\n",
              "  }\n",
              "\n",
              "  [theme=dark] .colab-df-quickchart {\n",
              "      --bg-color: #3B4455;\n",
              "      --fill-color: #D2E3FC;\n",
              "      --hover-bg-color: #434B5C;\n",
              "      --hover-fill-color: #FFFFFF;\n",
              "      --disabled-bg-color: #3B4455;\n",
              "      --disabled-fill-color: #666;\n",
              "  }\n",
              "\n",
              "  .colab-df-quickchart {\n",
              "    background-color: var(--bg-color);\n",
              "    border: none;\n",
              "    border-radius: 50%;\n",
              "    cursor: pointer;\n",
              "    display: none;\n",
              "    fill: var(--fill-color);\n",
              "    height: 32px;\n",
              "    padding: 0;\n",
              "    width: 32px;\n",
              "  }\n",
              "\n",
              "  .colab-df-quickchart:hover {\n",
              "    background-color: var(--hover-bg-color);\n",
              "    box-shadow: 0 1px 2px rgba(60, 64, 67, 0.3), 0 1px 3px 1px rgba(60, 64, 67, 0.15);\n",
              "    fill: var(--button-hover-fill-color);\n",
              "  }\n",
              "\n",
              "  .colab-df-quickchart-complete:disabled,\n",
              "  .colab-df-quickchart-complete:disabled:hover {\n",
              "    background-color: var(--disabled-bg-color);\n",
              "    fill: var(--disabled-fill-color);\n",
              "    box-shadow: none;\n",
              "  }\n",
              "\n",
              "  .colab-df-spinner {\n",
              "    border: 2px solid var(--fill-color);\n",
              "    border-color: transparent;\n",
              "    border-bottom-color: var(--fill-color);\n",
              "    animation:\n",
              "      spin 1s steps(1) infinite;\n",
              "  }\n",
              "\n",
              "  @keyframes spin {\n",
              "    0% {\n",
              "      border-color: transparent;\n",
              "      border-bottom-color: var(--fill-color);\n",
              "      border-left-color: var(--fill-color);\n",
              "    }\n",
              "    20% {\n",
              "      border-color: transparent;\n",
              "      border-left-color: var(--fill-color);\n",
              "      border-top-color: var(--fill-color);\n",
              "    }\n",
              "    30% {\n",
              "      border-color: transparent;\n",
              "      border-left-color: var(--fill-color);\n",
              "      border-top-color: var(--fill-color);\n",
              "      border-right-color: var(--fill-color);\n",
              "    }\n",
              "    40% {\n",
              "      border-color: transparent;\n",
              "      border-right-color: var(--fill-color);\n",
              "      border-top-color: var(--fill-color);\n",
              "    }\n",
              "    60% {\n",
              "      border-color: transparent;\n",
              "      border-right-color: var(--fill-color);\n",
              "    }\n",
              "    80% {\n",
              "      border-color: transparent;\n",
              "      border-right-color: var(--fill-color);\n",
              "      border-bottom-color: var(--fill-color);\n",
              "    }\n",
              "    90% {\n",
              "      border-color: transparent;\n",
              "      border-bottom-color: var(--fill-color);\n",
              "    }\n",
              "  }\n",
              "</style>\n",
              "\n",
              "  <script>\n",
              "    async function quickchart(key) {\n",
              "      const quickchartButtonEl =\n",
              "        document.querySelector('#' + key + ' button');\n",
              "      quickchartButtonEl.disabled = true;  // To prevent multiple clicks.\n",
              "      quickchartButtonEl.classList.add('colab-df-spinner');\n",
              "      try {\n",
              "        const charts = await google.colab.kernel.invokeFunction(\n",
              "            'suggestCharts', [key], {});\n",
              "      } catch (error) {\n",
              "        console.error('Error during call to suggestCharts:', error);\n",
              "      }\n",
              "      quickchartButtonEl.classList.remove('colab-df-spinner');\n",
              "      quickchartButtonEl.classList.add('colab-df-quickchart-complete');\n",
              "    }\n",
              "    (() => {\n",
              "      let quickchartButtonEl =\n",
              "        document.querySelector('#df-f6cefce6-2241-4970-86e0-b14deaffb231 button');\n",
              "      quickchartButtonEl.style.display =\n",
              "        google.colab.kernel.accessAllowed ? 'block' : 'none';\n",
              "    })();\n",
              "  </script>\n",
              "</div>\n",
              "\n",
              "    </div>\n",
              "  </div>\n"
            ],
            "application/vnd.google.colaboratory.intrinsic+json": {
              "type": "dataframe",
              "variable_name": "dat",
              "summary": "{\n  \"name\": \"dat\",\n  \"rows\": 16720,\n  \"fields\": [\n    {\n      \"column\": \"Unnamed: 0\",\n      \"properties\": {\n        \"dtype\": \"number\",\n        \"std\": 4826,\n        \"min\": 1,\n        \"max\": 16720,\n        \"num_unique_values\": 16720,\n        \"samples\": [\n          7088,\n          7101,\n          14092\n        ],\n        \"semantic_type\": \"\",\n        \"description\": \"\"\n      }\n    },\n    {\n      \"column\": \"rawid\",\n      \"properties\": {\n        \"dtype\": \"category\",\n        \"num_unique_values\": 24,\n        \"samples\": [\n          \"target3.img\",\n          \"mkirby849a_3_1_ax.img\",\n          \"kirby127a_3_1_ax.img\"\n        ],\n        \"semantic_type\": \"\",\n        \"description\": \"\"\n      }\n    },\n    {\n      \"column\": \"roi\",\n      \"properties\": {\n        \"dtype\": \"category\",\n        \"num_unique_values\": 426,\n        \"samples\": [\n          \"Fu_L\",\n          \"TempSul_R\",\n          \"SylFrontSul_R\"\n        ],\n        \"semantic_type\": \"\",\n        \"description\": \"\"\n      }\n    },\n    {\n      \"column\": \"volume\",\n      \"properties\": {\n        \"dtype\": \"number\",\n        \"std\": 47004,\n        \"min\": 0,\n        \"max\": 582281,\n        \"num_unique_values\": 7313,\n        \"samples\": [\n          27324,\n          12320,\n          7574\n        ],\n        \"semantic_type\": \"\",\n        \"description\": \"\"\n      }\n    },\n    {\n      \"column\": \"min\",\n      \"properties\": {\n        \"dtype\": \"number\",\n        \"std\": 58.88554719557277,\n        \"min\": 0.0,\n        \"max\": 297.0,\n        \"num_unique_values\": 1064,\n        \"samples\": [\n          111.0,\n          47.8306,\n          86.9912\n        ],\n        \"semantic_type\": \"\",\n        \"description\": \"\"\n      }\n    },\n    {\n      \"column\": \"max\",\n      \"properties\": {\n        \"dtype\": \"number\",\n        \"std\": 67.80706414250675,\n        \"min\": 0.0,\n        \"max\": 671.0,\n        \"num_unique_values\": 1158,\n        \"samples\": [\n          203.1336,\n          249.9857,\n          180.0\n        ],\n        \"semantic_type\": \"\",\n        \"description\": \"\"\n      }\n    },\n    {\n      \"column\": \"mean\",\n      \"properties\": {\n        \"dtype\": \"number\",\n        \"std\": 69.75044010412064,\n        \"min\": 0.0,\n        \"max\": 1118.7778,\n        \"num_unique_values\": 9659,\n        \"samples\": [\n          115.3748,\n          218.3925,\n          106.4948\n        ],\n        \"semantic_type\": \"\",\n        \"description\": \"\"\n      }\n    },\n    {\n      \"column\": \"std\",\n      \"properties\": {\n        \"dtype\": \"number\",\n        \"std\": 11.459274729872199,\n        \"min\": 0.0,\n        \"max\": 86.7527,\n        \"num_unique_values\": 9549,\n        \"samples\": [\n          22.0615,\n          36.4526,\n          22.2472\n        ],\n        \"semantic_type\": \"\",\n        \"description\": \"\"\n      }\n    },\n    {\n      \"column\": \"type\",\n      \"properties\": {\n        \"dtype\": \"number\",\n        \"std\": 0,\n        \"min\": 1,\n        \"max\": 2,\n        \"num_unique_values\": 2,\n        \"samples\": [\n          2,\n          1\n        ],\n        \"semantic_type\": \"\",\n        \"description\": \"\"\n      }\n    },\n    {\n      \"column\": \"level\",\n      \"properties\": {\n        \"dtype\": \"number\",\n        \"std\": 0,\n        \"min\": 1,\n        \"max\": 5,\n        \"num_unique_values\": 5,\n        \"samples\": [\n          2,\n          5\n        ],\n        \"semantic_type\": \"\",\n        \"description\": \"\"\n      }\n    },\n    {\n      \"column\": \"id\",\n      \"properties\": {\n        \"dtype\": \"number\",\n        \"std\": 266,\n        \"min\": 127,\n        \"max\": 959,\n        \"num_unique_values\": 20,\n        \"samples\": [\n          127,\n          916\n        ],\n        \"semantic_type\": \"\",\n        \"description\": \"\"\n      }\n    },\n    {\n      \"column\": \"icv\",\n      \"properties\": {\n        \"dtype\": \"number\",\n        \"std\": 111850,\n        \"min\": 944692,\n        \"max\": 1422450,\n        \"num_unique_values\": 20,\n        \"samples\": [\n          1378295,\n          1422450\n        ],\n        \"semantic_type\": \"\",\n        \"description\": \"\"\n      }\n    },\n    {\n      \"column\": \"tbv\",\n      \"properties\": {\n        \"dtype\": \"number\",\n        \"std\": 102124,\n        \"min\": 891547,\n        \"max\": 1343331,\n        \"num_unique_values\": 20,\n        \"samples\": [\n          1268519,\n          1343331\n        ],\n        \"semantic_type\": \"\",\n        \"description\": \"\"\n      }\n    }\n  ]\n}"
            }
          },
          "metadata": {},
          "execution_count": 2
        }
      ],
      "source": [
        "import numpy as np\n",
        "from scipy import stats as st\n",
        "import pandas as pd\n",
        "import seaborn as sns\n",
        "import matplotlib.pyplot as plt\n",
        "## this sets some style parameters\n",
        "sns.set()\n",
        "\n",
        "## Read in the data and display a few rows\n",
        "dat = pd.read_csv(\"https://raw.githubusercontent.com/smart-stats/ds4bio_book/main/book/assetts/kirby21AllLevels.csv\")\n",
        "dat.head(4)"
      ]
    },
    {
      "cell_type": "code",
      "source": [
        "telencephalon_data = dat[(dat['type'] == 1) & (dat['level'] == 1) & (dat['roi'].isin(['Telencephalon_L', 'Telencephalon_R']))]\n",
        "\n",
        "telencephalon_volumes = telencephalon_data.pivot_table(index='id', columns='roi', values='volume')\n",
        "\n",
        "sns.scatterplot(x='Telencephalon_L', y='Telencephalon_R', data=telencephalon_volumes)\n",
        "plt.xlabel('Left Telencephalon Volume')\n",
        "plt.ylabel('Right Telencephalon Volume')\n",
        "plt.title('Scatterplot of Left vs Right Telencephalon Volume (Type 1 Level 1)')\n",
        "plt.show()"
      ],
      "metadata": {
        "id": "9Y3rxre5c49Q",
        "outputId": "9bb4c9d5-6c1d-4ed0-c720-24d7a43e6c31",
        "colab": {
          "base_uri": "https://localhost:8080/",
          "height": 480
        }
      },
      "execution_count": null,
      "outputs": [
        {
          "output_type": "display_data",
          "data": {
            "text/plain": [
              "<Figure size 640x480 with 1 Axes>"
            ],
            "image/png": "[encoded data removed]"
          },
          "metadata": {}
        }
      ]
    },
    {
      "cell_type": "markdown",
      "source": [
        "##Question 2: Consider a regression through the origin model Y=BX . What would be the impact on the estimate of B if we replaced X by cX where c is a positive constant?\n",
        "Replacing X with a value equivalent to cX would result in scaling the output by the constant C. Since the regression is through the origin, the regression will continue to start from 0,0. Introducting constant C will affect the slope of the regression, in a multiplicative manner. The"
      ],
      "metadata": {
        "id": "tzSw0yw7d8wT"
      }
    },
    {
      "cell_type": "markdown",
      "source": [
        "##Question 3: Y^=β^0+β^1X in the scenario where X=1 or X=0\n",
        "\n",
        "For X=1 Y^=β^0+β^1(1) therefore Y^ = B0 + B1 when X=1\n",
        "\n",
        "For X= 0 Y^=β^0+β^1(0) therefore Y^ = B0 when X=0\n"
      ],
      "metadata": {
        "id": "E6Rss5mkig44"
      }
    },
    {
      "cell_type": "markdown",
      "source": [
        "# Question 4: Argue that if you take the vectors  𝑌  and  𝑋  and divide them by their standard deviations (respectively), the slope for either regressing  𝑌  on  𝑋  or  𝑋  on  𝑌  is simply the correlation."
      ],
      "metadata": {
        "id": "8l1KH19dlD5K"
      }
    },
    {
      "cell_type": "markdown",
      "source": [
        "Let X' be standardized X (X divide by SD of X), and Y' be standardized Y (Y divide by SD of Y). If we regress Y on X, the formula for slope is COV(X',Y')/Var(X') = COV(X,Y)/(SD(X)SD(Y))/1 = COR(X,Y) = r, which is the correlation coefficient, since Variance of standardized vector is 1.\n",
        "\n",
        "In the same way, if we regress X on Y, the formula for slope is COV(X',Y')/Var(Y') = COV(X,Y)/(SD(X)SD(Y))/1 = COR(X,Y) = r. Thus the slope for either regression direction is simply the correlation."
      ],
      "metadata": {
        "id": "wzAbtNa4lIcO"
      }
    },
    {
      "cell_type": "markdown",
      "source": [
        "# Question 5: streamlit app"
      ],
      "metadata": {
        "id": "_3HW9YlXkykS"
      }
    },
    {
      "cell_type": "code",
      "source": [
        "import streamlit as st\n",
        "import numpy as np\n",
        "import matplotlib.pyplot as plt\n",
        "\n",
        "def logistic(x, beta0, beta1):\n",
        "    return np.exp(beta0 + beta1*x) / (1 + np.exp(beta0 + beta1*x))\n",
        "\n",
        "\n",
        "st.title(\"Logistic Curve Explorer\")\n",
        "\n",
        "beta0 = st.slider(\"beta0 (intercept)\", -10.0, 10.0, 0.0)\n",
        "beta1 = st.slider(\"beta1 (coefficient)\", -10.0, 10.0, 1.0)\n",
        "\n",
        "\n",
        "x = np.linspace(-10, 10, 200)\n",
        "y = logistic(x, beta0, beta1)\n",
        "\n",
        "\n",
        "fig, ax = plt.subplots()\n",
        "ax.plot(x, y, label=\"Logistic Curve\")\n",
        "ax.set_xlabel(\"x\")\n",
        "ax.set_ylabel(\"f(x)\")\n",
        "ax.set_title(f\"beta0 = {beta0}, beta1 = {beta1}\")\n",
        "ax.set_ylim([0, 1])\n",
        "ax.legend()\n",
        "\n",
        "st.pyplot(fig)"
      ],
      "metadata": {
        "id": "8n6HCcZ5kVY8"
      },
      "execution_count": null,
      "outputs": []
    }
  ]
}